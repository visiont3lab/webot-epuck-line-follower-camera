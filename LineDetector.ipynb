{
  "nbformat": 4,
  "nbformat_minor": 0,
  "metadata": {
    "colab": {
      "provenance": [],
      "authorship_tag": "ABX9TyOLdqYt/elgfPyCP72LDUH/",
      "include_colab_link": true
    },
    "kernelspec": {
      "name": "python3",
      "display_name": "Python 3"
    },
    "language_info": {
      "name": "python"
    }
  },
  "cells": [
    {
      "cell_type": "markdown",
      "metadata": {
        "id": "view-in-github",
        "colab_type": "text"
      },
      "source": [
        "<a href=\"https://colab.research.google.com/github/visiont3lab/webot-epuck-line-follower-camera/blob/main/LineDetector.ipynb\" target=\"_parent\"><img src=\"https://colab.research.google.com/assets/colab-badge.svg\" alt=\"Open In Colab\"/></a>"
      ]
    },
    {
      "cell_type": "code",
      "source": [
        "from IPython.display import display, Javascript\n",
        "from google.colab.output import eval_js\n",
        "from base64 import b64decode\n",
        "\n",
        "def take_photo(filename='photo.jpg', quality=0.8):\n",
        "  js = Javascript('''\n",
        "    async function takePhoto(quality) {\n",
        "      const div = document.createElement('div');\n",
        "      const capture = document.createElement('button');\n",
        "      capture.textContent = 'Capture';\n",
        "      div.appendChild(capture);\n",
        "\n",
        "      const video = document.createElement('video');\n",
        "      video.style.display = 'block';\n",
        "      const stream = await navigator.mediaDevices.getUserMedia({video: true});\n",
        "\n",
        "      document.body.appendChild(div);\n",
        "      div.appendChild(video);\n",
        "      video.srcObject = stream;\n",
        "      await video.play();\n",
        "\n",
        "      // Resize the output to fit the video element.\n",
        "      google.colab.output.setIframeHeight(document.documentElement.scrollHeight, true);\n",
        "\n",
        "      // Wait for Capture to be clicked.\n",
        "      await new Promise((resolve) => capture.onclick = resolve);\n",
        "\n",
        "      const canvas = document.createElement('canvas');\n",
        "      canvas.width = video.videoWidth;\n",
        "      canvas.height = video.videoHeight;\n",
        "      canvas.getContext('2d').drawImage(video, 0, 0);\n",
        "      stream.getVideoTracks()[0].stop();\n",
        "      div.remove();\n",
        "      return canvas.toDataURL('image/jpeg', quality);\n",
        "    }\n",
        "    ''')\n",
        "  display(js)\n",
        "  data = eval_js('takePhoto({})'.format(quality))\n",
        "  binary = b64decode(data.split(',')[1])\n",
        "  with open(filename, 'wb') as f:\n",
        "    f.write(binary)\n",
        "  return filename"
      ],
      "metadata": {
        "id": "OVlxITEdyV8o"
      },
      "execution_count": 1,
      "outputs": []
    },
    {
      "cell_type": "code",
      "source": [
        "from IPython.display import Image\n",
        "try:\n",
        "  filename = take_photo()\n",
        "  print('Saved to {}'.format(filename))\n",
        "  \n",
        "  # Show the image which was just taken.\n",
        "  display(Image(filename))\n",
        "except Exception as err:\n",
        "  # Errors will be thrown if the user does not have a webcam or if they do not\n",
        "  # grant the page permission to access it.\n",
        "  print(str(err))"
      ],
      "metadata": {
        "id": "bhpGrpM_yV8p"
      },
      "execution_count": null,
      "outputs": []
    },
    {
      "cell_type": "code",
      "source": [
        "# OPencv\n",
        "!pip install opencv-python"
      ],
      "metadata": {
        "id": "oUwvi356yy1U",
        "outputId": "a9d5d165-52f4-4c20-d62f-ba1dce1971de",
        "colab": {
          "base_uri": "https://localhost:8080/"
        }
      },
      "execution_count": 3,
      "outputs": [
        {
          "output_type": "stream",
          "name": "stdout",
          "text": [
            "Looking in indexes: https://pypi.org/simple, https://us-python.pkg.dev/colab-wheels/public/simple/\n",
            "Requirement already satisfied: opencv-python in /usr/local/lib/python3.7/dist-packages (4.6.0.66)\n",
            "Requirement already satisfied: numpy>=1.14.5 in /usr/local/lib/python3.7/dist-packages (from opencv-python) (1.21.6)\n"
          ]
        }
      ]
    },
    {
      "cell_type": "code",
      "source": [
        "import cv2\n",
        "from PIL import Image\n",
        "import numpy as np \n",
        "\n",
        "im = cv2.imread(\"color.png\", cv2.IMREAD_COLOR) #BGR\n",
        "im = cv2.cvtColor(im, cv2.COLOR_BGR2RGB)\n",
        "#im = cv2.imread(\"photo.jpg\", cv2.IMREAD_GRAYSCALE)\n",
        "\n",
        "#print(im.shape)\n",
        "#print( np.unique(im) )\n",
        "# Bianco e nero\n",
        "\n",
        "gray = cv2.cvtColor(im, cv2.COLOR_RGB2GRAY)\n",
        "w, h = gray.shape\n",
        "ret, thresh = cv2.threshold(gray, 127,255, cv2.THRESH_BINARY_INV)\n",
        "\n",
        "contours, _ = cv2.findContours(thresh, cv2.RETR_EXTERNAL, cv2.CHAIN_APPROX_SIMPLE)\n",
        "print(contours)\n",
        "cv2.drawContours(im, contours, -1, (0,0,255), 10 )\n",
        "\n",
        "if len(contours)>0:\n",
        "  c = contours[0]\n",
        "  M = cv2.moments(c)\n",
        "  print(M)\n",
        "  cX = int(M[\"m10\"] / M[\"m00\"])\n",
        "  cY = int(M[\"m01\"] / M[\"m00\"])\n",
        "  cv2.circle(im, (cX,cY), 40, (0,255,0),-1)\n",
        "  cv2.circle(im, (cX+150,cY), 40, (0,255,255),-1)\n",
        "  cv2.circle(im, (cX-150,cY), 40, (0,255,255),-1)\n",
        "  cv2.line(im, (cX-250,0), (cX-250,h), (255,0,255), 25)\n",
        "  cv2.line(im, (cX+250,0), (cX+250,h), (255,0,255), 25)\n",
        "        \n",
        "\n",
        "# 0 - 255\n",
        "imt = cv2.resize(thresh, (320,240))\n",
        "im = cv2.resize(im, (320,240))\n",
        "\n",
        "display(Image.fromarray(im))\n",
        "display(Image.fromarray(imt))"
      ],
      "metadata": {
        "id": "kI2zkn14y7Q1",
        "outputId": "fb607073-56c2-4317-a084-122bd9e1f67e",
        "colab": {
          "base_uri": "https://localhost:8080/",
          "height": 772
        }
      },
      "execution_count": 76,
      "outputs": [
        {
          "output_type": "stream",
          "name": "stdout",
          "text": [
            "(array([[[858,  18]],\n",
            "\n",
            "       [[857,  19]],\n",
            "\n",
            "       [[851,  19]],\n",
            "\n",
            "       ...,\n",
            "\n",
            "       [[878,  19]],\n",
            "\n",
            "       [[873,  19]],\n",
            "\n",
            "       [[872,  18]]], dtype=int32),)\n",
            "{'m00': 272327.5, 'm10': 222692702.16666666, 'm01': 172693085.5, 'm20': 184116141525.5833, 'm11': 136403274203.95833, 'm02': 140627838747.5833, 'm30': 153814738188395.84, 'm21': 108955082923978.31, 'm12': 108908595390727.61, 'm03': 127809387450567.45, 'mu20': 2011728279.4304504, 'mu11': -4814523688.264084, 'mu02': 31116673773.387497, 'mu30': -34268915093.53125, 'mu21': 74173023811.23706, 'mu12': 17926954086.941406, 'mu03': -832502146932.0469, 'nu20': 0.027126035298778065, 'nu11': -0.06491877697898106, 'nu02': 0.41957554595615665, 'nu30': -0.0008854654242627141, 'nu21': 0.0019165371246393215, 'nu12': 0.00046320982041617533, 'nu03': -0.021510802566141154}\n"
          ]
        },
        {
          "output_type": "display_data",
          "data": {
            "text/plain": [
              "<PIL.Image.Image image mode=RGB size=320x240 at 0x7F27DA67BE90>"
            ],
            "image/png": "[encoded data removed]"
          },
          "metadata": {}
        },
        {
          "output_type": "display_data",
          "data": {
            "text/plain": [
              "<PIL.Image.Image image mode=L size=320x240 at 0x7F27DA67B4D0>"
            ],
            "image/png": "[encoded data removed]"
          },
          "metadata": {}
        }
      ]
    }
  ]
}